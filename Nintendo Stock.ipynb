{
 "cells": [
  {
   "cell_type": "code",
   "execution_count": 1,
   "id": "3166325d",
   "metadata": {},
   "outputs": [],
   "source": [
    "import pandas as pd\n",
    "import numpy as np\n",
    "from sklearn import linear_model\n",
    "import matplotlib.pyplot as plt"
   ]
  },
  {
   "cell_type": "code",
   "execution_count": 2,
   "id": "4d68769a",
   "metadata": {},
   "outputs": [],
   "source": [
    "df = pd.read_csv('NTDOY.csv')"
   ]
  },
  {
   "cell_type": "code",
   "execution_count": 3,
   "id": "0b9f398d",
   "metadata": {},
   "outputs": [
    {
     "name": "stdout",
     "output_type": "stream",
     "text": [
      "           Date       Open       High        Low      Close  Adj Close  Volume\n",
      "0    2021-07-21  68.190002  68.699997  67.550003  68.699997  68.699997  875600\n",
      "1    2021-07-22  69.199997  69.199997  68.320000  68.389999  68.389999  491000\n",
      "2    2021-07-23  68.430000  68.989998  68.320000  68.629997  68.629997  614400\n",
      "3    2021-07-26  68.000000  68.330002  67.650002  67.989998  67.989998  573500\n",
      "4    2021-07-27  68.199997  68.919998  67.300003  67.889999  67.889999  410100\n",
      "..          ...        ...        ...        ...        ...        ...     ...\n",
      "248  2022-07-15  54.529999  56.240002  54.529999  56.189999  56.189999  417000\n",
      "249  2022-07-18  56.000000  56.709999  55.910000  56.349998  56.349998  355100\n",
      "250  2022-07-19  55.990002  55.990002  54.930000  55.279999  55.279999  155100\n",
      "251  2022-07-20  55.500000  56.730000  55.500000  56.060001  56.060001  201200\n",
      "252  2022-07-21  56.200001  56.200001  55.599998  55.889999  55.889999   80870\n",
      "\n",
      "[253 rows x 7 columns]\n"
     ]
    }
   ],
   "source": [
    "print(df)"
   ]
  },
  {
   "cell_type": "code",
   "execution_count": 4,
   "id": "4f3ca426",
   "metadata": {},
   "outputs": [
    {
     "name": "stdout",
     "output_type": "stream",
     "text": [
      "         Date       Open       High        Low      Close  Adj Close  Volume\n",
      "0  2021-07-21  68.190002  68.699997  67.550003  68.699997  68.699997  875600\n",
      "1  2021-07-22  69.199997  69.199997  68.320000  68.389999  68.389999  491000\n",
      "2  2021-07-23  68.430000  68.989998  68.320000  68.629997  68.629997  614400\n",
      "3  2021-07-26  68.000000  68.330002  67.650002  67.989998  67.989998  573500\n",
      "4  2021-07-27  68.199997  68.919998  67.300003  67.889999  67.889999  410100\n",
      "5  2021-07-28  67.250000  67.849998  67.010002  67.849998  67.849998  416200\n",
      "6  2021-07-29  67.250000  67.250000  66.510002  66.559998  66.559998  487500\n",
      "7  2021-07-30  64.500000  64.610001  64.010002  64.250000  64.250000  502300\n",
      "8  2021-08-02  65.120003  65.489998  64.919998  65.089996  65.089996  364000\n",
      "9  2021-08-03  64.459999  65.250000  64.459999  64.839996  64.839996  375700\n"
     ]
    }
   ],
   "source": [
    "print(df.head(10))"
   ]
  },
  {
   "cell_type": "code",
   "execution_count": 5,
   "id": "fe61b88c",
   "metadata": {},
   "outputs": [
    {
     "name": "stdout",
     "output_type": "stream",
     "text": [
      "           Date       Open       High        Low      Close  Adj Close  Volume\n",
      "243  2022-07-08  52.150002  53.980000  52.150002  53.500000  53.500000  132700\n",
      "244  2022-07-11  53.619999  53.790001  53.540001  53.560001  53.560001  230000\n",
      "245  2022-07-12  53.500000  54.740002  53.500000  54.410000  54.410000   95800\n",
      "246  2022-07-13  53.500000  54.700001  53.500000  54.700001  54.700001  166500\n",
      "247  2022-07-14  54.599998  54.599998  53.610001  54.279999  54.279999  101800\n",
      "248  2022-07-15  54.529999  56.240002  54.529999  56.189999  56.189999  417000\n",
      "249  2022-07-18  56.000000  56.709999  55.910000  56.349998  56.349998  355100\n",
      "250  2022-07-19  55.990002  55.990002  54.930000  55.279999  55.279999  155100\n",
      "251  2022-07-20  55.500000  56.730000  55.500000  56.060001  56.060001  201200\n",
      "252  2022-07-21  56.200001  56.200001  55.599998  55.889999  55.889999   80870\n"
     ]
    }
   ],
   "source": [
    "print(df.tail(10))"
   ]
  },
  {
   "cell_type": "code",
   "execution_count": 6,
   "id": "5822a9fa",
   "metadata": {},
   "outputs": [
    {
     "name": "stdout",
     "output_type": "stream",
     "text": [
      "<class 'pandas.core.frame.DataFrame'>\n",
      "RangeIndex: 253 entries, 0 to 252\n",
      "Data columns (total 7 columns):\n",
      " #   Column     Non-Null Count  Dtype  \n",
      "---  ------     --------------  -----  \n",
      " 0   Date       253 non-null    object \n",
      " 1   Open       253 non-null    float64\n",
      " 2   High       253 non-null    float64\n",
      " 3   Low        253 non-null    float64\n",
      " 4   Close      253 non-null    float64\n",
      " 5   Adj Close  253 non-null    float64\n",
      " 6   Volume     253 non-null    int64  \n",
      "dtypes: float64(5), int64(1), object(1)\n",
      "memory usage: 14.0+ KB\n"
     ]
    }
   ],
   "source": [
    "df.info()"
   ]
  },
  {
   "cell_type": "code",
   "execution_count": 7,
   "id": "78d31f54",
   "metadata": {},
   "outputs": [
    {
     "data": {
      "text/html": [
       "<div>\n",
       "<style scoped>\n",
       "    .dataframe tbody tr th:only-of-type {\n",
       "        vertical-align: middle;\n",
       "    }\n",
       "\n",
       "    .dataframe tbody tr th {\n",
       "        vertical-align: top;\n",
       "    }\n",
       "\n",
       "    .dataframe thead th {\n",
       "        text-align: right;\n",
       "    }\n",
       "</style>\n",
       "<table border=\"1\" class=\"dataframe\">\n",
       "  <thead>\n",
       "    <tr style=\"text-align: right;\">\n",
       "      <th></th>\n",
       "      <th>Open</th>\n",
       "      <th>High</th>\n",
       "      <th>Low</th>\n",
       "      <th>Close</th>\n",
       "      <th>Adj Close</th>\n",
       "      <th>Volume</th>\n",
       "    </tr>\n",
       "  </thead>\n",
       "  <tbody>\n",
       "    <tr>\n",
       "      <th>count</th>\n",
       "      <td>253.000000</td>\n",
       "      <td>253.000000</td>\n",
       "      <td>253.000000</td>\n",
       "      <td>253.000000</td>\n",
       "      <td>253.000000</td>\n",
       "      <td>2.530000e+02</td>\n",
       "    </tr>\n",
       "    <tr>\n",
       "      <th>mean</th>\n",
       "      <td>58.994822</td>\n",
       "      <td>59.488221</td>\n",
       "      <td>58.490711</td>\n",
       "      <td>58.958616</td>\n",
       "      <td>58.958616</td>\n",
       "      <td>4.015299e+05</td>\n",
       "    </tr>\n",
       "    <tr>\n",
       "      <th>std</th>\n",
       "      <td>3.943679</td>\n",
       "      <td>3.907274</td>\n",
       "      <td>3.913391</td>\n",
       "      <td>3.904200</td>\n",
       "      <td>3.904200</td>\n",
       "      <td>2.293489e+05</td>\n",
       "    </tr>\n",
       "    <tr>\n",
       "      <th>min</th>\n",
       "      <td>51.970001</td>\n",
       "      <td>52.490002</td>\n",
       "      <td>51.910000</td>\n",
       "      <td>52.150002</td>\n",
       "      <td>52.150002</td>\n",
       "      <td>8.087000e+04</td>\n",
       "    </tr>\n",
       "    <tr>\n",
       "      <th>25%</th>\n",
       "      <td>55.500000</td>\n",
       "      <td>56.200001</td>\n",
       "      <td>55.020000</td>\n",
       "      <td>55.560001</td>\n",
       "      <td>55.560001</td>\n",
       "      <td>2.455000e+05</td>\n",
       "    </tr>\n",
       "    <tr>\n",
       "      <th>50%</th>\n",
       "      <td>58.950001</td>\n",
       "      <td>59.389999</td>\n",
       "      <td>58.250000</td>\n",
       "      <td>58.910000</td>\n",
       "      <td>58.910000</td>\n",
       "      <td>3.392000e+05</td>\n",
       "    </tr>\n",
       "    <tr>\n",
       "      <th>75%</th>\n",
       "      <td>62.150002</td>\n",
       "      <td>62.730000</td>\n",
       "      <td>61.520000</td>\n",
       "      <td>61.950001</td>\n",
       "      <td>61.950001</td>\n",
       "      <td>4.924000e+05</td>\n",
       "    </tr>\n",
       "    <tr>\n",
       "      <th>max</th>\n",
       "      <td>69.199997</td>\n",
       "      <td>69.199997</td>\n",
       "      <td>68.320000</td>\n",
       "      <td>68.699997</td>\n",
       "      <td>68.699997</td>\n",
       "      <td>1.574200e+06</td>\n",
       "    </tr>\n",
       "  </tbody>\n",
       "</table>\n",
       "</div>"
      ],
      "text/plain": [
       "             Open        High         Low       Close   Adj Close  \\\n",
       "count  253.000000  253.000000  253.000000  253.000000  253.000000   \n",
       "mean    58.994822   59.488221   58.490711   58.958616   58.958616   \n",
       "std      3.943679    3.907274    3.913391    3.904200    3.904200   \n",
       "min     51.970001   52.490002   51.910000   52.150002   52.150002   \n",
       "25%     55.500000   56.200001   55.020000   55.560001   55.560001   \n",
       "50%     58.950001   59.389999   58.250000   58.910000   58.910000   \n",
       "75%     62.150002   62.730000   61.520000   61.950001   61.950001   \n",
       "max     69.199997   69.199997   68.320000   68.699997   68.699997   \n",
       "\n",
       "             Volume  \n",
       "count  2.530000e+02  \n",
       "mean   4.015299e+05  \n",
       "std    2.293489e+05  \n",
       "min    8.087000e+04  \n",
       "25%    2.455000e+05  \n",
       "50%    3.392000e+05  \n",
       "75%    4.924000e+05  \n",
       "max    1.574200e+06  "
      ]
     },
     "execution_count": 7,
     "metadata": {},
     "output_type": "execute_result"
    }
   ],
   "source": [
    "df.describe()"
   ]
  },
  {
   "cell_type": "code",
   "execution_count": 8,
   "id": "f291ef37",
   "metadata": {},
   "outputs": [
    {
     "data": {
      "text/html": [
       "<div>\n",
       "<style scoped>\n",
       "    .dataframe tbody tr th:only-of-type {\n",
       "        vertical-align: middle;\n",
       "    }\n",
       "\n",
       "    .dataframe tbody tr th {\n",
       "        vertical-align: top;\n",
       "    }\n",
       "\n",
       "    .dataframe thead th {\n",
       "        text-align: right;\n",
       "    }\n",
       "</style>\n",
       "<table border=\"1\" class=\"dataframe\">\n",
       "  <thead>\n",
       "    <tr style=\"text-align: right;\">\n",
       "      <th></th>\n",
       "      <th>Open</th>\n",
       "      <th>High</th>\n",
       "      <th>Low</th>\n",
       "      <th>Close</th>\n",
       "      <th>Adj Close</th>\n",
       "      <th>Volume</th>\n",
       "    </tr>\n",
       "  </thead>\n",
       "  <tbody>\n",
       "    <tr>\n",
       "      <th>Open</th>\n",
       "      <td>1.000000</td>\n",
       "      <td>0.992579</td>\n",
       "      <td>0.990858</td>\n",
       "      <td>0.986346</td>\n",
       "      <td>0.986346</td>\n",
       "      <td>0.129258</td>\n",
       "    </tr>\n",
       "    <tr>\n",
       "      <th>High</th>\n",
       "      <td>0.992579</td>\n",
       "      <td>1.000000</td>\n",
       "      <td>0.992574</td>\n",
       "      <td>0.994207</td>\n",
       "      <td>0.994207</td>\n",
       "      <td>0.139954</td>\n",
       "    </tr>\n",
       "    <tr>\n",
       "      <th>Low</th>\n",
       "      <td>0.990858</td>\n",
       "      <td>0.992574</td>\n",
       "      <td>1.000000</td>\n",
       "      <td>0.995052</td>\n",
       "      <td>0.995052</td>\n",
       "      <td>0.100715</td>\n",
       "    </tr>\n",
       "    <tr>\n",
       "      <th>Close</th>\n",
       "      <td>0.986346</td>\n",
       "      <td>0.994207</td>\n",
       "      <td>0.995052</td>\n",
       "      <td>1.000000</td>\n",
       "      <td>1.000000</td>\n",
       "      <td>0.112244</td>\n",
       "    </tr>\n",
       "    <tr>\n",
       "      <th>Adj Close</th>\n",
       "      <td>0.986346</td>\n",
       "      <td>0.994207</td>\n",
       "      <td>0.995052</td>\n",
       "      <td>1.000000</td>\n",
       "      <td>1.000000</td>\n",
       "      <td>0.112244</td>\n",
       "    </tr>\n",
       "    <tr>\n",
       "      <th>Volume</th>\n",
       "      <td>0.129258</td>\n",
       "      <td>0.139954</td>\n",
       "      <td>0.100715</td>\n",
       "      <td>0.112244</td>\n",
       "      <td>0.112244</td>\n",
       "      <td>1.000000</td>\n",
       "    </tr>\n",
       "  </tbody>\n",
       "</table>\n",
       "</div>"
      ],
      "text/plain": [
       "               Open      High       Low     Close  Adj Close    Volume\n",
       "Open       1.000000  0.992579  0.990858  0.986346   0.986346  0.129258\n",
       "High       0.992579  1.000000  0.992574  0.994207   0.994207  0.139954\n",
       "Low        0.990858  0.992574  1.000000  0.995052   0.995052  0.100715\n",
       "Close      0.986346  0.994207  0.995052  1.000000   1.000000  0.112244\n",
       "Adj Close  0.986346  0.994207  0.995052  1.000000   1.000000  0.112244\n",
       "Volume     0.129258  0.139954  0.100715  0.112244   0.112244  1.000000"
      ]
     },
     "execution_count": 8,
     "metadata": {},
     "output_type": "execute_result"
    }
   ],
   "source": [
    "df.corr()"
   ]
  },
  {
   "cell_type": "code",
   "execution_count": 9,
   "id": "8a51695a",
   "metadata": {},
   "outputs": [
    {
     "data": {
      "image/png": "[encoded data removed]",
      "text/plain": [
       "<Figure size 432x288 with 1 Axes>"
      ]
     },
     "metadata": {
      "needs_background": "light"
     },
     "output_type": "display_data"
    }
   ],
   "source": [
    "scatter_plot = df.plot.scatter(x = 'Open', y = 'Close')"
   ]
  },
  {
   "cell_type": "code",
   "execution_count": 10,
   "id": "4f2d44c8",
   "metadata": {},
   "outputs": [],
   "source": [
    "Open = pd.DataFrame(df['Open'])"
   ]
  },
  {
   "cell_type": "code",
   "execution_count": 11,
   "id": "f5d6893e",
   "metadata": {},
   "outputs": [
    {
     "data": {
      "text/html": [
       "<div>\n",
       "<style scoped>\n",
       "    .dataframe tbody tr th:only-of-type {\n",
       "        vertical-align: middle;\n",
       "    }\n",
       "\n",
       "    .dataframe tbody tr th {\n",
       "        vertical-align: top;\n",
       "    }\n",
       "\n",
       "    .dataframe thead th {\n",
       "        text-align: right;\n",
       "    }\n",
       "</style>\n",
       "<table border=\"1\" class=\"dataframe\">\n",
       "  <thead>\n",
       "    <tr style=\"text-align: right;\">\n",
       "      <th></th>\n",
       "      <th>Open</th>\n",
       "    </tr>\n",
       "  </thead>\n",
       "  <tbody>\n",
       "    <tr>\n",
       "      <th>0</th>\n",
       "      <td>68.190002</td>\n",
       "    </tr>\n",
       "    <tr>\n",
       "      <th>1</th>\n",
       "      <td>69.199997</td>\n",
       "    </tr>\n",
       "    <tr>\n",
       "      <th>2</th>\n",
       "      <td>68.430000</td>\n",
       "    </tr>\n",
       "    <tr>\n",
       "      <th>3</th>\n",
       "      <td>68.000000</td>\n",
       "    </tr>\n",
       "    <tr>\n",
       "      <th>4</th>\n",
       "      <td>68.199997</td>\n",
       "    </tr>\n",
       "    <tr>\n",
       "      <th>...</th>\n",
       "      <td>...</td>\n",
       "    </tr>\n",
       "    <tr>\n",
       "      <th>248</th>\n",
       "      <td>54.529999</td>\n",
       "    </tr>\n",
       "    <tr>\n",
       "      <th>249</th>\n",
       "      <td>56.000000</td>\n",
       "    </tr>\n",
       "    <tr>\n",
       "      <th>250</th>\n",
       "      <td>55.990002</td>\n",
       "    </tr>\n",
       "    <tr>\n",
       "      <th>251</th>\n",
       "      <td>55.500000</td>\n",
       "    </tr>\n",
       "    <tr>\n",
       "      <th>252</th>\n",
       "      <td>56.200001</td>\n",
       "    </tr>\n",
       "  </tbody>\n",
       "</table>\n",
       "<p>253 rows × 1 columns</p>\n",
       "</div>"
      ],
      "text/plain": [
       "          Open\n",
       "0    68.190002\n",
       "1    69.199997\n",
       "2    68.430000\n",
       "3    68.000000\n",
       "4    68.199997\n",
       "..         ...\n",
       "248  54.529999\n",
       "249  56.000000\n",
       "250  55.990002\n",
       "251  55.500000\n",
       "252  56.200001\n",
       "\n",
       "[253 rows x 1 columns]"
      ]
     },
     "execution_count": 11,
     "metadata": {},
     "output_type": "execute_result"
    }
   ],
   "source": [
    "Open"
   ]
  },
  {
   "cell_type": "code",
   "execution_count": 12,
   "id": "a719e4ee",
   "metadata": {},
   "outputs": [],
   "source": [
    "Close = pd.DataFrame(df['Close'])"
   ]
  },
  {
   "cell_type": "code",
   "execution_count": 13,
   "id": "d86bc8c4",
   "metadata": {},
   "outputs": [
    {
     "data": {
      "text/html": [
       "<div>\n",
       "<style scoped>\n",
       "    .dataframe tbody tr th:only-of-type {\n",
       "        vertical-align: middle;\n",
       "    }\n",
       "\n",
       "    .dataframe tbody tr th {\n",
       "        vertical-align: top;\n",
       "    }\n",
       "\n",
       "    .dataframe thead th {\n",
       "        text-align: right;\n",
       "    }\n",
       "</style>\n",
       "<table border=\"1\" class=\"dataframe\">\n",
       "  <thead>\n",
       "    <tr style=\"text-align: right;\">\n",
       "      <th></th>\n",
       "      <th>Close</th>\n",
       "    </tr>\n",
       "  </thead>\n",
       "  <tbody>\n",
       "    <tr>\n",
       "      <th>0</th>\n",
       "      <td>68.699997</td>\n",
       "    </tr>\n",
       "    <tr>\n",
       "      <th>1</th>\n",
       "      <td>68.389999</td>\n",
       "    </tr>\n",
       "    <tr>\n",
       "      <th>2</th>\n",
       "      <td>68.629997</td>\n",
       "    </tr>\n",
       "    <tr>\n",
       "      <th>3</th>\n",
       "      <td>67.989998</td>\n",
       "    </tr>\n",
       "    <tr>\n",
       "      <th>4</th>\n",
       "      <td>67.889999</td>\n",
       "    </tr>\n",
       "    <tr>\n",
       "      <th>...</th>\n",
       "      <td>...</td>\n",
       "    </tr>\n",
       "    <tr>\n",
       "      <th>248</th>\n",
       "      <td>56.189999</td>\n",
       "    </tr>\n",
       "    <tr>\n",
       "      <th>249</th>\n",
       "      <td>56.349998</td>\n",
       "    </tr>\n",
       "    <tr>\n",
       "      <th>250</th>\n",
       "      <td>55.279999</td>\n",
       "    </tr>\n",
       "    <tr>\n",
       "      <th>251</th>\n",
       "      <td>56.060001</td>\n",
       "    </tr>\n",
       "    <tr>\n",
       "      <th>252</th>\n",
       "      <td>55.889999</td>\n",
       "    </tr>\n",
       "  </tbody>\n",
       "</table>\n",
       "<p>253 rows × 1 columns</p>\n",
       "</div>"
      ],
      "text/plain": [
       "         Close\n",
       "0    68.699997\n",
       "1    68.389999\n",
       "2    68.629997\n",
       "3    67.989998\n",
       "4    67.889999\n",
       "..         ...\n",
       "248  56.189999\n",
       "249  56.349998\n",
       "250  55.279999\n",
       "251  56.060001\n",
       "252  55.889999\n",
       "\n",
       "[253 rows x 1 columns]"
      ]
     },
     "execution_count": 13,
     "metadata": {},
     "output_type": "execute_result"
    }
   ],
   "source": [
    "Close"
   ]
  },
  {
   "cell_type": "code",
   "execution_count": 16,
   "id": "24fb777e",
   "metadata": {},
   "outputs": [],
   "source": [
    "lm = linear_model.LinearRegression()\n",
    "model = lm.fit(Open, Close)"
   ]
  },
  {
   "cell_type": "code",
   "execution_count": 15,
   "id": "e89fef28",
   "metadata": {},
   "outputs": [
    {
     "data": {
      "text/plain": [
       "array([[0.9764714]])"
      ]
     },
     "execution_count": 15,
     "metadata": {},
     "output_type": "execute_result"
    }
   ],
   "source": [
    "model.coef_"
   ]
  },
  {
   "cell_type": "code",
   "execution_count": null,
   "id": "87ee1111",
   "metadata": {},
   "outputs": [],
   "source": []
  }
 ],
 "metadata": {
  "kernelspec": {
   "display_name": "Python 3 (ipykernel)",
   "language": "python",
   "name": "python3"
  },
  "language_info": {
   "codemirror_mode": {
    "name": "ipython",
    "version": 3
   },
   "file_extension": ".py",
   "mimetype": "text/x-python",
   "name": "python",
   "nbconvert_exporter": "python",
   "pygments_lexer": "ipython3",
   "version": "3.9.12"
  }
 },
 "nbformat": 4,
 "nbformat_minor": 5
}
